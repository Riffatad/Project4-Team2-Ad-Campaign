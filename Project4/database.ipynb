{
 "cells": [
  {
   "cell_type": "code",
   "execution_count": 1,
   "id": "6553e232-74bf-4c16-90fd-6af86390b2e4",
   "metadata": {},
   "outputs": [],
   "source": [
    "import sqlite3\n",
    "import pandas as pd"
   ]
  },
  {
   "cell_type": "markdown",
   "id": "feacb347-482a-4dbf-891c-8ad695453f6a",
   "metadata": {},
   "source": [
    "# This script reads ad campaign data from a CSV file and stores it in an SQLite database"
   ]
  },
  {
   "cell_type": "code",
   "execution_count": 4,
   "id": "6786f57c-9f21-4718-a4bb-33704196c591",
   "metadata": {},
   "outputs": [
    {
     "name": "stdout",
     "output_type": "stream",
     "text": [
      "Existing Tables: [('ad_campaigns',)]\n",
      "CSV data successfully inserted into SQLite database!\n"
     ]
    }
   ],
   "source": [
    "# Load CSV file\n",
    "csv_file = \"ad_campaign_performance.csv\"\n",
    "df = pd.read_csv(csv_file)\n",
    "\n",
    "# Connect to SQLite\n",
    "conn = sqlite3.connect(\"ad_campaigns.db\")\n",
    "cursor = conn.cursor()\n",
    "\n",
    "# Create table if it doesn't exist\n",
    "cursor.execute('''\n",
    "CREATE TABLE IF NOT EXISTS ad_campaigns (\n",
    "    Campaign_ID TEXT PRIMARY KEY,\n",
    "    Budget INTEGER,\n",
    "    Duration INTEGER,\n",
    "    Platform TEXT,\n",
    "    Content_Type TEXT,\n",
    "    Target_Age TEXT,\n",
    "    Target_Gender TEXT,\n",
    "    Region TEXT,\n",
    "    Clicks INTEGER,\n",
    "    Conversions INTEGER,\n",
    "    CTR FLOAT,\n",
    "    CPC FLOAT,\n",
    "    Conversion_Rate FLOAT,\n",
    "    Success INTEGER\n",
    ");\n",
    "''')\n",
    "\n",
    "# Check if table was created correctly\n",
    "cursor.execute(\"SELECT name FROM sqlite_master WHERE type='table';\")\n",
    "tables = cursor.fetchall()\n",
    "print(\"Existing Tables:\", tables)\n",
    "\n",
    "# Insert data into table\n",
    "df.to_sql(\"ad_campaigns\", conn, if_exists=\"replace\", index=False)\n",
    "\n",
    "# Commit and close connection\n",
    "conn.commit()\n",
    "conn.close()\n",
    "\n",
    "print(\"CSV data successfully inserted into SQLite database!\")\n"
   ]
  },
  {
   "cell_type": "code",
   "execution_count": null,
   "id": "6a1578cd-6b1f-493e-a3e0-cd47e4eb67d9",
   "metadata": {},
   "outputs": [],
   "source": []
  }
 ],
 "metadata": {
  "kernelspec": {
   "display_name": "Python 3 (ipykernel)",
   "language": "python",
   "name": "python3"
  },
  "language_info": {
   "codemirror_mode": {
    "name": "ipython",
    "version": 3
   },
   "file_extension": ".py",
   "mimetype": "text/x-python",
   "name": "python",
   "nbconvert_exporter": "python",
   "pygments_lexer": "ipython3",
   "version": "3.10.14"
  }
 },
 "nbformat": 4,
 "nbformat_minor": 5
}
